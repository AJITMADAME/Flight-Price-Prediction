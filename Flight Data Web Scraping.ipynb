{
 "cells": [
  {
   "cell_type": "code",
   "execution_count": 1,
   "id": "1b150bfb",
   "metadata": {},
   "outputs": [],
   "source": [
    "#Importing all necessary Libraries\n",
    "import selenium\n",
    "import pandas as pd\n",
    "import numpy as np\n",
    "from selenium import webdriver\n",
    "from bs4 import BeautifulSoup\n",
    "import requests\n",
    "import time\n",
    "from selenium.common.exceptions import NoSuchElementException,ElementNotInteractableException,ElementNotVisibleException\n",
    "import re\n",
    "import warnings\n",
    "warnings.filterwarnings('ignore')"
   ]
  },
  {
   "cell_type": "code",
   "execution_count": 2,
   "id": "9925e5dd",
   "metadata": {},
   "outputs": [],
   "source": [
    "from selenium.webdriver.common.by import By"
   ]
  },
  {
   "cell_type": "code",
   "execution_count": 3,
   "id": "6f9e3656",
   "metadata": {},
   "outputs": [],
   "source": [
    "from selenium.webdriver.edge.service import Service"
   ]
  },
  {
   "cell_type": "code",
   "execution_count": 4,
   "id": "7c8c1d7d",
   "metadata": {},
   "outputs": [],
   "source": [
    "s = Service(\"msedgedriver.exe\")"
   ]
  },
  {
   "cell_type": "code",
   "execution_count": 5,
   "id": "4bf26dd7",
   "metadata": {},
   "outputs": [],
   "source": [
    "from selenium.webdriver.support.ui import WebDriverWait       \n",
    "from selenium.webdriver.common.by import By       \n",
    "from selenium.webdriver.support import expected_conditions as EC"
   ]
  },
  {
   "cell_type": "markdown",
   "id": "1c3c0a8d",
   "metadata": {},
   "source": [
    "## Scraping data from Yatra.com"
   ]
  },
  {
   "cell_type": "code",
   "execution_count": 41,
   "id": "3cb49f83",
   "metadata": {},
   "outputs": [],
   "source": [
    "url =  'https://www.easemytrip.com/?utm_source=google&utm_medium=cpc&utm_campaign=14425253924&utm_content=128139253602&utm_term=easemytrip&utm_campaign=14425253924&utm_source=g_c&utm_medium=cpc&utm_term=e_easemytrip&adgroupid=128139253602&gclid=CjwKCAiAqIKNBhAIEiwAu_ZLDlT5YOtVqr_cBvopvRV97poc_Qf54b5aTshxY-ho9drT4c4ICLdOLBoC8YcQAvD_BwE'\n",
    "driver = webdriver.Edge(service = s)\n",
    "driver.maximize_window() \n",
    "driver.get(url) #accessing the url on web driver"
   ]
  },
  {
   "cell_type": "raw",
   "id": "01de22e1",
   "metadata": {},
   "source": [
    "n = ['https://flight.easemytrip.com/FlightList/Index?srch=DEL-Delhi-India|BOM-Mumbai-India|07/01/2023&px=1-0-0&cbn=0&ar=undefined&isow=true&isdm=true&lang=en-us&CouponCode=&ompAff=&bc=&ISWL=&CCODE=IN&curr=INR&apptype=B2C']"
   ]
  },
  {
   "cell_type": "raw",
   "id": "38a57e70",
   "metadata": {},
   "source": [
    "n = ['https://flight.easemytrip.com/FlightList/Index?srch=DEL-Delhi-India|BLR-Bangalore-India|08/01/2023&px=1-0-0&cbn=0&ar=undefined&isow=true&isdm=true&lang=en-us&CouponCode=&ompAff=&bc=&ISWL=&CCODE=IN&curr=INR&apptype=B2C']"
   ]
  },
  {
   "cell_type": "raw",
   "id": "925b82aa",
   "metadata": {},
   "source": [
    "n = ['https://flight.easemytrip.com/FlightList/Index?srch=MAA-Chennai-India|CCU-Kolkata-India|09/01/2023&px=1-0-0&cbn=0&ar=undefined&isow=true&isdm=true&lang=en-us&CouponCode=&ompAff=&bc=&ISWL=&CCODE=IN&curr=INR&apptype=B2C']"
   ]
  },
  {
   "cell_type": "raw",
   "id": "fe7387df",
   "metadata": {},
   "source": [
    "n = ['https://flight.easemytrip.com/FlightList/Index?srch=BLR-Bangalore-India|DEL-Delhi-India|10/01/2023&px=1-0-0&cbn=0&ar=undefined&isow=true&isdm=true&lang=en-us&CouponCode=&ompAff=&bc=&ISWL=&CCODE=IN&curr=INR&apptype=B2C']"
   ]
  },
  {
   "cell_type": "code",
   "execution_count": 174,
   "id": "8f67dfed",
   "metadata": {},
   "outputs": [],
   "source": [
    "n = ['https://flight.easemytrip.com/FlightList/Index?srch=CCU-Kolkata-India|GOI-Goa-India|11/01/2023&px=1-0-0&cbn=0&ar=undefined&isow=true&isdm=true&lang=en-us&CouponCode=&ompAff=&bc=&ISWL=&CCODE=IN&curr=INR&apptype=B2C']"
   ]
  },
  {
   "cell_type": "code",
   "execution_count": null,
   "id": "059df408",
   "metadata": {},
   "outputs": [],
   "source": []
  },
  {
   "cell_type": "code",
   "execution_count": 175,
   "id": "33130a06",
   "metadata": {},
   "outputs": [],
   "source": [
    "al = []"
   ]
  },
  {
   "cell_type": "code",
   "execution_count": 176,
   "id": "a5ccaed4",
   "metadata": {},
   "outputs": [],
   "source": [
    "airline = [] #empty list to contain all the scraped airline names\n",
    "fltnum= []  #empty list to contain all the scraped airline flight numbers\n",
    "src= [] #empty list to contain all the scraped airline flight route data\n",
    "deptdate = [] #empty list to contain all the scraped airline flight departure dates\n",
    "stops= [] #empty list to contain all the scraped airline flight total stops\n",
    "duration= [] #empty list to contain all the scraped airline flight duration\n",
    "#price= [] #empty list to contain all the scraped airline flight ticket price\n"
   ]
  },
  {
   "cell_type": "code",
   "execution_count": null,
   "id": "efa0dbff",
   "metadata": {},
   "outputs": [],
   "source": []
  },
  {
   "cell_type": "code",
   "execution_count": 177,
   "id": "09eacc1b",
   "metadata": {},
   "outputs": [],
   "source": [
    "for l in n:\n",
    "    driver.get(l)#loading the url on web driver\n",
    "    time.sleep(4) # giving the webpage 4 seconds to load\n",
    "    \n",
    "    try:\n",
    "        airlinetag = driver.find_elements(By.XPATH,\"//span[@class='txt-r4 ng-binding']\")\n",
    "        for i in airlinetag:\n",
    "            airline.append(i.text)#finds all airline name elements and appends them to airline list\n",
    "            \n",
    "    except:\n",
    "        airline.append('-')\n",
    "\n",
    "    try:\n",
    "        fltnumtag = driver.find_elements(By.XPATH,\"//span[@class ='txt-r5']\")\n",
    "        for i in fltnumtag:   #finds all airline flightnumber elements and appends them to flightnumber list\n",
    "            fltnum.append(i.text)\n",
    "    except:\n",
    "        fltnum.append('-')   \n",
    "    try:\n",
    "        srctag = driver.find_elements(By.XPATH,\"//span[@class ='txt-r3-n ng-binding']\")\n",
    "        for i in srctag:\n",
    "            src.append(i.text) #finds all airline route elements and appends them to src list\n",
    "    except:\n",
    "        src.append('-')\n",
    "        \n",
    "    try:\n",
    "        stopstag = driver.find_elements(By.XPATH,\"//span[@class='dura_md2 ng-scope']\")\n",
    "        for i in stopstag:\n",
    "            stops.append(i.text) #finds all airline flight total stops elements and appends them to stops list\n",
    "    except:\n",
    "        stops.append('-')\n",
    "    try:\n",
    "        durationtag = driver.find_elements(By.XPATH,\"//span[@class ='dura_md ng-binding']\")\n",
    "        for i in durationtag:\n",
    "            duration.append(i.text) #finds all airline flight duration elements and appends them to duration list\n",
    "    except:\n",
    "        duration.append('-')\n",
    "    \n",
    "    #try:\n",
    "     #   pricetag = driver.find_elements(By.XPATH,\"//div[@class ='col-md-8 col-sm-8 col-xs-9 txt-r6-n ng-binding']\")\n",
    "      #  for i in pricetag:\n",
    "       #     price.append(i.text) #finds all airline flight ticket price elements and appends them to price list\n",
    "    #except:\n",
    "     #   price.append('-')\n",
    "      "
   ]
  },
  {
   "cell_type": "code",
   "execution_count": 184,
   "id": "b1ad0803",
   "metadata": {},
   "outputs": [],
   "source": [
    "price = []\n",
    "for l in n:\n",
    "    driver.get(l)#loading the url on web driver\n",
    "    time.sleep(4) # giving the webpage 4 seconds to load\n",
    "    \n",
    "    try:\n",
    "        pricetag = driver.find_elements(By.XPATH,\"//div[@class ='col-md-8 col-sm-8 col-xs-9 txt-r6-n exPrc ng-binding']\")\n",
    "        for i in pricetag:\n",
    "            price.append(i.text) #finds all airline flight ticket price elements and appends them to price list\n",
    "    except:\n",
    "        price.append('-')"
   ]
  },
  {
   "cell_type": "code",
   "execution_count": 185,
   "id": "bbde26c4",
   "metadata": {},
   "outputs": [
    {
     "data": {
      "text/plain": [
       "105"
      ]
     },
     "execution_count": 185,
     "metadata": {},
     "output_type": "execute_result"
    }
   ],
   "source": [
    "len(price)"
   ]
  },
  {
   "cell_type": "code",
   "execution_count": 186,
   "id": "1f3c7126",
   "metadata": {},
   "outputs": [],
   "source": [
    "for l in n:\n",
    "    driver.get(l)\n",
    "    time.sleep(4)\n",
    "    al=[] # an empty list to append airline names to be used later for scraping Date data\n",
    "    try:\n",
    "        airlinetag = driver.find_elements(By.XPATH,\"//span[@class='txt-r4 ng-binding']\")\n",
    "        for i in airlinetag:\n",
    "            al.append(i.text)#finds all airline name elements and appends them to al list\n",
    "            \n",
    "    except:\n",
    "        \n",
    "        al.append('-')\n",
    "    try:\n",
    "        deptdatetag = driver.find_element(By.XPATH,\"//*[@id='jssor_1']/div/div/div/div/div[2]/div[6]/div[1]/div[1]/div[1]\")\n",
    "        for i in range(0,len(al)):\n",
    "            deptdate.append(deptdatetag.text) \n",
    "    except:\n",
    "        deptdate.append('-')"
   ]
  },
  {
   "cell_type": "code",
   "execution_count": 188,
   "id": "903b6061",
   "metadata": {},
   "outputs": [],
   "source": [
    "Price = list(filter(None, price))#removing blank elements from list"
   ]
  },
  {
   "cell_type": "code",
   "execution_count": 190,
   "id": "00531884",
   "metadata": {},
   "outputs": [],
   "source": [
    "dest=[] #empty list to contain destination location data\n",
    "source=[]#empty list to contain source location data\n",
    "for i in range(0,len(src),2):\n",
    "    source.append(src[i])\n",
    "for i in range(1,len(src),2):\n",
    "    dest.append(src[i])"
   ]
  },
  {
   "cell_type": "code",
   "execution_count": 195,
   "id": "bbf202b7",
   "metadata": {},
   "outputs": [],
   "source": [
    "#Creating FlightDF Data Frame with the scraped data\n",
    "FlightDF5= pd.DataFrame({'Airline':airline[0:75],'Flight Number':fltnum[0:75],'Date of Departure':depdate[0:75],'From':source[0:75],'To':dest[0:75],'Duration':duration[0:75],'Total Stops':stops[0:75],'Price':Price})"
   ]
  },
  {
   "cell_type": "code",
   "execution_count": 114,
   "id": "8b88ffb9",
   "metadata": {},
   "outputs": [],
   "source": [
    "import pandas as pd"
   ]
  },
  {
   "cell_type": "code",
   "execution_count": 197,
   "id": "396e75be",
   "metadata": {},
   "outputs": [],
   "source": [
    "FlightData = pd.concat([FlightData,FlightDF5],ignore_index=True)"
   ]
  },
  {
   "cell_type": "code",
   "execution_count": 198,
   "id": "600131f7",
   "metadata": {},
   "outputs": [
    {
     "data": {
      "text/html": [
       "<div>\n",
       "<style scoped>\n",
       "    .dataframe tbody tr th:only-of-type {\n",
       "        vertical-align: middle;\n",
       "    }\n",
       "\n",
       "    .dataframe tbody tr th {\n",
       "        vertical-align: top;\n",
       "    }\n",
       "\n",
       "    .dataframe thead th {\n",
       "        text-align: right;\n",
       "    }\n",
       "</style>\n",
       "<table border=\"1\" class=\"dataframe\">\n",
       "  <thead>\n",
       "    <tr style=\"text-align: right;\">\n",
       "      <th></th>\n",
       "      <th>Airline</th>\n",
       "      <th>Flight Number</th>\n",
       "      <th>Date of Departure</th>\n",
       "      <th>From</th>\n",
       "      <th>To</th>\n",
       "      <th>Duration</th>\n",
       "      <th>Total Stops</th>\n",
       "      <th>Price</th>\n",
       "    </tr>\n",
       "  </thead>\n",
       "  <tbody>\n",
       "    <tr>\n",
       "      <th>0</th>\n",
       "      <td>SpiceJet</td>\n",
       "      <td>SG- 191</td>\n",
       "      <td>Jan 06</td>\n",
       "      <td>Delhi</td>\n",
       "      <td>Bangalore</td>\n",
       "      <td>02h 50m</td>\n",
       "      <td>non-stop</td>\n",
       "      <td>7,754</td>\n",
       "    </tr>\n",
       "    <tr>\n",
       "      <th>1</th>\n",
       "      <td>Indigo</td>\n",
       "      <td>6E-6612</td>\n",
       "      <td>Jan 06</td>\n",
       "      <td>Delhi</td>\n",
       "      <td>Bangalore</td>\n",
       "      <td>02h 50m</td>\n",
       "      <td>non-stop</td>\n",
       "      <td>7,929</td>\n",
       "    </tr>\n",
       "    <tr>\n",
       "      <th>2</th>\n",
       "      <td>Indigo</td>\n",
       "      <td>6E-2067</td>\n",
       "      <td>Jan 06</td>\n",
       "      <td>Delhi</td>\n",
       "      <td>Bangalore</td>\n",
       "      <td>02h 55m</td>\n",
       "      <td>non-stop</td>\n",
       "      <td>8,654</td>\n",
       "    </tr>\n",
       "    <tr>\n",
       "      <th>3</th>\n",
       "      <td>AirAsia</td>\n",
       "      <td>I5-779</td>\n",
       "      <td>Jan 06</td>\n",
       "      <td>Delhi</td>\n",
       "      <td>Bangalore</td>\n",
       "      <td>11h 25m</td>\n",
       "      <td>1-stop</td>\n",
       "      <td>8,654</td>\n",
       "    </tr>\n",
       "    <tr>\n",
       "      <th>4</th>\n",
       "      <td>GO FIRST</td>\n",
       "      <td>G8- 113</td>\n",
       "      <td>Jan 06</td>\n",
       "      <td>Delhi</td>\n",
       "      <td>Bangalore</td>\n",
       "      <td>02h 50m</td>\n",
       "      <td>non-stop</td>\n",
       "      <td>8,654</td>\n",
       "    </tr>\n",
       "    <tr>\n",
       "      <th>...</th>\n",
       "      <td>...</td>\n",
       "      <td>...</td>\n",
       "      <td>...</td>\n",
       "      <td>...</td>\n",
       "      <td>...</td>\n",
       "      <td>...</td>\n",
       "      <td>...</td>\n",
       "      <td>...</td>\n",
       "    </tr>\n",
       "    <tr>\n",
       "      <th>535</th>\n",
       "      <td>Air India</td>\n",
       "      <td>AI-640</td>\n",
       "      <td>Jan 06</td>\n",
       "      <td>Bangalore</td>\n",
       "      <td>Delhi</td>\n",
       "      <td>05h 35m</td>\n",
       "      <td>1-stop</td>\n",
       "      <td>16,641</td>\n",
       "    </tr>\n",
       "    <tr>\n",
       "      <th>536</th>\n",
       "      <td>Air India</td>\n",
       "      <td>AI-640</td>\n",
       "      <td>Jan 06</td>\n",
       "      <td>Bangalore</td>\n",
       "      <td>Delhi</td>\n",
       "      <td>13h 40m</td>\n",
       "      <td>1-stop</td>\n",
       "      <td>16,903</td>\n",
       "    </tr>\n",
       "    <tr>\n",
       "      <th>537</th>\n",
       "      <td>Indigo</td>\n",
       "      <td>6E- 408</td>\n",
       "      <td>Jan 06</td>\n",
       "      <td>Bangalore</td>\n",
       "      <td>Delhi</td>\n",
       "      <td>05h 55m</td>\n",
       "      <td>1-stop</td>\n",
       "      <td>16,997</td>\n",
       "    </tr>\n",
       "    <tr>\n",
       "      <th>538</th>\n",
       "      <td>Indigo</td>\n",
       "      <td>6E- 528</td>\n",
       "      <td>Jan 06</td>\n",
       "      <td>Bangalore</td>\n",
       "      <td>Delhi</td>\n",
       "      <td>06h 25m</td>\n",
       "      <td>1-stop</td>\n",
       "      <td>17,686</td>\n",
       "    </tr>\n",
       "    <tr>\n",
       "      <th>539</th>\n",
       "      <td>Air India</td>\n",
       "      <td>AI-516</td>\n",
       "      <td>Jan 06</td>\n",
       "      <td>Bangalore</td>\n",
       "      <td>Delhi</td>\n",
       "      <td>05h 05m</td>\n",
       "      <td>1-stop</td>\n",
       "      <td>21,202</td>\n",
       "    </tr>\n",
       "  </tbody>\n",
       "</table>\n",
       "<p>540 rows × 8 columns</p>\n",
       "</div>"
      ],
      "text/plain": [
       "       Airline Flight Number Date of Departure       From         To Duration  \\\n",
       "0     SpiceJet       SG- 191            Jan 06      Delhi  Bangalore  02h 50m   \n",
       "1       Indigo       6E-6612            Jan 06      Delhi  Bangalore  02h 50m   \n",
       "2       Indigo       6E-2067            Jan 06      Delhi  Bangalore  02h 55m   \n",
       "3      AirAsia        I5-779            Jan 06      Delhi  Bangalore  11h 25m   \n",
       "4     GO FIRST       G8- 113            Jan 06      Delhi  Bangalore  02h 50m   \n",
       "..         ...           ...               ...        ...        ...      ...   \n",
       "535  Air India        AI-640            Jan 06  Bangalore      Delhi  05h 35m   \n",
       "536  Air India        AI-640            Jan 06  Bangalore      Delhi  13h 40m   \n",
       "537     Indigo       6E- 408            Jan 06  Bangalore      Delhi  05h 55m   \n",
       "538     Indigo       6E- 528            Jan 06  Bangalore      Delhi  06h 25m   \n",
       "539  Air India        AI-516            Jan 06  Bangalore      Delhi  05h 05m   \n",
       "\n",
       "    Total Stops   Price  \n",
       "0      non-stop   7,754  \n",
       "1      non-stop   7,929  \n",
       "2      non-stop   8,654  \n",
       "3        1-stop   8,654  \n",
       "4      non-stop   8,654  \n",
       "..          ...     ...  \n",
       "535      1-stop  16,641  \n",
       "536      1-stop  16,903  \n",
       "537      1-stop  16,997  \n",
       "538      1-stop  17,686  \n",
       "539      1-stop  21,202  \n",
       "\n",
       "[540 rows x 8 columns]"
      ]
     },
     "execution_count": 198,
     "metadata": {},
     "output_type": "execute_result"
    }
   ],
   "source": [
    "FlightData"
   ]
  },
  {
   "cell_type": "code",
   "execution_count": 199,
   "id": "7db06321",
   "metadata": {},
   "outputs": [],
   "source": [
    "FlightData.to_csv('FlightDataWebscrape.csv') # Saving as .csv file"
   ]
  },
  {
   "cell_type": "code",
   "execution_count": null,
   "id": "4ee77bae",
   "metadata": {},
   "outputs": [],
   "source": []
  },
  {
   "cell_type": "code",
   "execution_count": null,
   "id": "7204244f",
   "metadata": {},
   "outputs": [],
   "source": []
  }
 ],
 "metadata": {
  "kernelspec": {
   "display_name": "Python 3 (ipykernel)",
   "language": "python",
   "name": "python3"
  },
  "language_info": {
   "codemirror_mode": {
    "name": "ipython",
    "version": 3
   },
   "file_extension": ".py",
   "mimetype": "text/x-python",
   "name": "python",
   "nbconvert_exporter": "python",
   "pygments_lexer": "ipython3",
   "version": "3.9.13"
  }
 },
 "nbformat": 4,
 "nbformat_minor": 5
}
